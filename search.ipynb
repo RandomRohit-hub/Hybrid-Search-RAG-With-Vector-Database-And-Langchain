{
 "cells": [
  {
   "cell_type": "code",
   "execution_count": 14,
   "id": "0debe596",
   "metadata": {},
   "outputs": [],
   "source": [
    "!pip install --upgrade --quiet  pinecone-client pinecone-text pinecone-notebooks"
   ]
  },
  {
   "cell_type": "code",
   "execution_count": 20,
   "id": "56ce5faf",
   "metadata": {},
   "outputs": [
    {
     "name": "stdout",
     "output_type": "stream",
     "text": [
      "Found existing installation: pinecone-client 6.0.0\n",
      "Uninstalling pinecone-client-6.0.0:\n",
      "  Successfully uninstalled pinecone-client-6.0.0\n",
      "Found existing installation: pinecone-text 0.10.0\n",
      "Uninstalling pinecone-text-0.10.0:\n",
      "  Successfully uninstalled pinecone-text-0.10.0\n",
      "Found existing installation: pinecone-notebooks 0.1.1\n",
      "Uninstalling pinecone-notebooks-0.1.1:\n",
      "  Successfully uninstalled pinecone-notebooks-0.1.1\n"
     ]
    },
    {
     "name": "stderr",
     "output_type": "stream",
     "text": [
      "WARNING: Skipping pinecone as it is not installed.\n"
     ]
    }
   ],
   "source": [
    "!pip uninstall pinecone-client -y\n",
    "!pip uninstall pinecone-text -y\n",
    "!pip uninstall pinecone-notebooks -y\n",
    "!pip uninstall pinecone -y\n"
   ]
  },
  {
   "cell_type": "code",
   "execution_count": 21,
   "id": "9fa1f043",
   "metadata": {},
   "outputs": [
    {
     "name": "stdout",
     "output_type": "stream",
     "text": [
      "Collecting pinecone\n",
      "  Using cached pinecone-7.3.0-py3-none-any.whl.metadata (9.5 kB)\n",
      "Requirement already satisfied: certifi>=2019.11.17 in c:\\users\\fakee\\appdata\\roaming\\python\\python312\\site-packages (from pinecone) (2025.4.26)\n",
      "Collecting pinecone-plugin-assistant<2.0.0,>=1.6.0 (from pinecone)\n",
      "  Downloading pinecone_plugin_assistant-1.7.0-py3-none-any.whl.metadata (28 kB)\n",
      "Requirement already satisfied: pinecone-plugin-interface<0.0.8,>=0.0.7 in c:\\users\\fakee\\anaconda3\\lib\\site-packages (from pinecone) (0.0.7)\n",
      "Requirement already satisfied: python-dateutil>=2.5.3 in c:\\users\\fakee\\appdata\\roaming\\python\\python312\\site-packages (from pinecone) (2.9.0.post0)\n",
      "Requirement already satisfied: typing-extensions>=3.7.4 in c:\\users\\fakee\\appdata\\roaming\\python\\python312\\site-packages (from pinecone) (4.13.2)\n",
      "Requirement already satisfied: urllib3>=1.26.5 in c:\\users\\fakee\\appdata\\roaming\\python\\python312\\site-packages (from pinecone) (2.4.0)\n",
      "Requirement already satisfied: packaging<25.0,>=24.2 in c:\\users\\fakee\\appdata\\roaming\\python\\python312\\site-packages (from pinecone-plugin-assistant<2.0.0,>=1.6.0->pinecone) (24.2)\n",
      "Requirement already satisfied: requests<3.0.0,>=2.32.3 in c:\\users\\fakee\\appdata\\roaming\\python\\python312\\site-packages (from pinecone-plugin-assistant<2.0.0,>=1.6.0->pinecone) (2.32.3)\n",
      "Requirement already satisfied: charset-normalizer<4,>=2 in c:\\users\\fakee\\appdata\\roaming\\python\\python312\\site-packages (from requests<3.0.0,>=2.32.3->pinecone-plugin-assistant<2.0.0,>=1.6.0->pinecone) (3.4.2)\n",
      "Requirement already satisfied: idna<4,>=2.5 in c:\\users\\fakee\\appdata\\roaming\\python\\python312\\site-packages (from requests<3.0.0,>=2.32.3->pinecone-plugin-assistant<2.0.0,>=1.6.0->pinecone) (3.10)\n",
      "Requirement already satisfied: six>=1.5 in c:\\users\\fakee\\appdata\\roaming\\python\\python312\\site-packages (from python-dateutil>=2.5.3->pinecone) (1.17.0)\n",
      "Downloading pinecone-7.3.0-py3-none-any.whl (587 kB)\n",
      "   ---------------------------------------- 0.0/587.6 kB ? eta -:--:--\n",
      "   --------------------------------------- 587.6/587.6 kB 10.2 MB/s eta 0:00:00\n",
      "Downloading pinecone_plugin_assistant-1.7.0-py3-none-any.whl (239 kB)\n",
      "Installing collected packages: pinecone-plugin-assistant, pinecone\n",
      "\n",
      "   ---------------------------------------- 0/2 [pinecone-plugin-assistant]\n",
      "   -------------------- ------------------- 1/2 [pinecone]\n",
      "   -------------------- ------------------- 1/2 [pinecone]\n",
      "   -------------------- ------------------- 1/2 [pinecone]\n",
      "   -------------------- ------------------- 1/2 [pinecone]\n",
      "   ---------------------------------------- 2/2 [pinecone]\n",
      "\n",
      "Successfully installed pinecone-7.3.0 pinecone-plugin-assistant-1.7.0\n"
     ]
    }
   ],
   "source": [
    "!pip install pinecone\n"
   ]
  },
  {
   "cell_type": "code",
   "execution_count": 15,
   "id": "47440094",
   "metadata": {},
   "outputs": [],
   "source": [
    "api_key=\"pcsk_6NQEF3_3HNLeGuVe84Y1VqV7WjW8pBA1xk723URZoQpeDjf3KM2piZP4FqUWRY4R2pbYqV\""
   ]
  },
  {
   "cell_type": "code",
   "execution_count": 16,
   "id": "7f040f00",
   "metadata": {},
   "outputs": [],
   "source": [
    "from langchain_community.retrievers import PineconeHybridSearchRetriever"
   ]
  },
  {
   "cell_type": "code",
   "execution_count": 22,
   "id": "19141801",
   "metadata": {},
   "outputs": [],
   "source": [
    "import os\n",
    "from pinecone import Pinecone, ServerlessSpec\n",
    "index_name=\"hybrid-search-langchain-pinecone\"\n",
    "\n",
    "#initialize the pine cone client \n",
    "\n",
    "pc=Pinecone(api_key=api_key)\n",
    "\n",
    "\n",
    "## creare index \n",
    "\n",
    "if index_name not in pc.list_indexes().names():\n",
    "    pc.create_index(\n",
    "        name=index_name,\n",
    "        dimension=384,  # dim of dense vector\n",
    "        metric='dotproduct',\n",
    "        spec=ServerlessSpec(cloud='aws', region='us-east-1'),\n",
    "    )\n"
   ]
  },
  {
   "cell_type": "code",
   "execution_count": 23,
   "id": "8c85645f",
   "metadata": {},
   "outputs": [
    {
     "data": {
      "text/plain": [
       "<pinecone.db_data.index.Index at 0x2ac45c83e60>"
      ]
     },
     "execution_count": 23,
     "metadata": {},
     "output_type": "execute_result"
    }
   ],
   "source": [
    "index=pc.Index(index_name)\n",
    "index"
   ]
  },
  {
   "cell_type": "code",
   "execution_count": null,
   "id": "1035c016",
   "metadata": {},
   "outputs": [],
   "source": [
    "# vector and sparse matrix\n",
    "\n",
    "\n",
    "import os \n",
    "from dotenv import load_dotenv\n",
    "load_dotenv()\n",
    "\n",
    "from langchain_huggingface import HuggingFaceEmbeddings\n",
    "embedding=HuggingFaceEmbeddings(model='all-MiniM-L6-v2')\n",
    "embedding"
   ]
  },
  {
   "cell_type": "code",
   "execution_count": null,
   "id": "36fbcd87",
   "metadata": {},
   "outputs": [],
   "source": []
  }
 ],
 "metadata": {
  "kernelspec": {
   "display_name": "base",
   "language": "python",
   "name": "python3"
  },
  "language_info": {
   "codemirror_mode": {
    "name": "ipython",
    "version": 3
   },
   "file_extension": ".py",
   "mimetype": "text/x-python",
   "name": "python",
   "nbconvert_exporter": "python",
   "pygments_lexer": "ipython3",
   "version": "3.12.3"
  }
 },
 "nbformat": 4,
 "nbformat_minor": 5
}
