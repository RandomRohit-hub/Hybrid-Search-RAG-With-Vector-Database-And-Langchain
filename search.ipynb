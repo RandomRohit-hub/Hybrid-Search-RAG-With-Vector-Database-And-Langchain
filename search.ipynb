{
 "cells": [
  {
   "cell_type": "code",
   "execution_count": 30,
   "id": "0debe596",
   "metadata": {},
   "outputs": [],
   "source": [
    "!pip install --upgrade --quiet  pinecone-client pinecone-text pinecone-notebooks"
   ]
  },
  {
   "cell_type": "code",
   "execution_count": 31,
   "id": "56ce5faf",
   "metadata": {},
   "outputs": [
    {
     "name": "stdout",
     "output_type": "stream",
     "text": [
      "Found existing installation: pinecone-client 6.0.0\n",
      "Uninstalling pinecone-client-6.0.0:\n",
      "  Successfully uninstalled pinecone-client-6.0.0\n",
      "Found existing installation: pinecone-text 0.10.0\n",
      "Uninstalling pinecone-text-0.10.0:\n",
      "  Successfully uninstalled pinecone-text-0.10.0\n",
      "Found existing installation: pinecone-notebooks 0.1.1\n",
      "Uninstalling pinecone-notebooks-0.1.1:\n",
      "  Successfully uninstalled pinecone-notebooks-0.1.1\n",
      "Found existing installation: pinecone 7.3.0\n",
      "Uninstalling pinecone-7.3.0:\n",
      "  Successfully uninstalled pinecone-7.3.0\n"
     ]
    }
   ],
   "source": [
    "!pip uninstall pinecone-client -y\n",
    "!pip uninstall pinecone-text -y\n",
    "!pip uninstall pinecone-notebooks -y\n",
    "!pip uninstall pinecone -y\n"
   ]
  },
  {
   "cell_type": "code",
   "execution_count": 32,
   "id": "9fa1f043",
   "metadata": {},
   "outputs": [
    {
     "name": "stdout",
     "output_type": "stream",
     "text": [
      "Collecting pinecone\n",
      "  Using cached pinecone-7.3.0-py3-none-any.whl.metadata (9.5 kB)\n",
      "Requirement already satisfied: certifi>=2019.11.17 in c:\\users\\fakee\\appdata\\roaming\\python\\python312\\site-packages (from pinecone) (2025.4.26)\n",
      "Requirement already satisfied: pinecone-plugin-assistant<2.0.0,>=1.6.0 in c:\\users\\fakee\\anaconda3\\lib\\site-packages (from pinecone) (1.7.0)\n",
      "Requirement already satisfied: pinecone-plugin-interface<0.0.8,>=0.0.7 in c:\\users\\fakee\\anaconda3\\lib\\site-packages (from pinecone) (0.0.7)\n",
      "Requirement already satisfied: python-dateutil>=2.5.3 in c:\\users\\fakee\\appdata\\roaming\\python\\python312\\site-packages (from pinecone) (2.9.0.post0)\n",
      "Requirement already satisfied: typing-extensions>=3.7.4 in c:\\users\\fakee\\appdata\\roaming\\python\\python312\\site-packages (from pinecone) (4.13.2)\n",
      "Requirement already satisfied: urllib3>=1.26.5 in c:\\users\\fakee\\appdata\\roaming\\python\\python312\\site-packages (from pinecone) (2.4.0)\n",
      "Requirement already satisfied: packaging<25.0,>=24.2 in c:\\users\\fakee\\appdata\\roaming\\python\\python312\\site-packages (from pinecone-plugin-assistant<2.0.0,>=1.6.0->pinecone) (24.2)\n",
      "Requirement already satisfied: requests<3.0.0,>=2.32.3 in c:\\users\\fakee\\appdata\\roaming\\python\\python312\\site-packages (from pinecone-plugin-assistant<2.0.0,>=1.6.0->pinecone) (2.32.3)\n",
      "Requirement already satisfied: charset-normalizer<4,>=2 in c:\\users\\fakee\\appdata\\roaming\\python\\python312\\site-packages (from requests<3.0.0,>=2.32.3->pinecone-plugin-assistant<2.0.0,>=1.6.0->pinecone) (3.4.2)\n",
      "Requirement already satisfied: idna<4,>=2.5 in c:\\users\\fakee\\appdata\\roaming\\python\\python312\\site-packages (from requests<3.0.0,>=2.32.3->pinecone-plugin-assistant<2.0.0,>=1.6.0->pinecone) (3.10)\n",
      "Requirement already satisfied: six>=1.5 in c:\\users\\fakee\\appdata\\roaming\\python\\python312\\site-packages (from python-dateutil>=2.5.3->pinecone) (1.17.0)\n",
      "Using cached pinecone-7.3.0-py3-none-any.whl (587 kB)\n",
      "Installing collected packages: pinecone\n",
      "Successfully installed pinecone-7.3.0\n"
     ]
    }
   ],
   "source": [
    "!pip install pinecone\n"
   ]
  },
  {
   "cell_type": "code",
   "execution_count": 33,
   "id": "47440094",
   "metadata": {},
   "outputs": [],
   "source": [
    "api_key=\"pcsk_6NQEF3_3HNLeGuVe84Y1VqV7WjW8pBA1xk723URZoQpeDjf3KM2piZP4FqUWRY4R2pbYqV\""
   ]
  },
  {
   "cell_type": "code",
   "execution_count": 34,
   "id": "7f040f00",
   "metadata": {},
   "outputs": [],
   "source": [
    "from langchain_community.retrievers import PineconeHybridSearchRetriever"
   ]
  },
  {
   "cell_type": "code",
   "execution_count": 35,
   "id": "19141801",
   "metadata": {},
   "outputs": [],
   "source": [
    "import os\n",
    "from pinecone import Pinecone, ServerlessSpec\n",
    "index_name=\"hybrid-search-langchain-pinecone\"\n",
    "\n",
    "#initialize the pine cone client \n",
    "\n",
    "pc=Pinecone(api_key=api_key)\n",
    "\n",
    "\n",
    "## creare index \n",
    "\n",
    "if index_name not in pc.list_indexes().names():\n",
    "    pc.create_index(\n",
    "        name=index_name,\n",
    "        dimension=384,  # dim of dense vector\n",
    "        metric='dotproduct',\n",
    "        spec=ServerlessSpec(cloud='aws', region='us-east-1'),\n",
    "    )\n"
   ]
  },
  {
   "cell_type": "code",
   "execution_count": 36,
   "id": "8c85645f",
   "metadata": {},
   "outputs": [
    {
     "data": {
      "text/plain": [
       "<pinecone.db_data.index.Index at 0x2ac45d0c590>"
      ]
     },
     "execution_count": 36,
     "metadata": {},
     "output_type": "execute_result"
    }
   ],
   "source": [
    "index=pc.Index(index_name)\n",
    "index"
   ]
  },
  {
   "cell_type": "code",
   "execution_count": 37,
   "id": "1035c016",
   "metadata": {},
   "outputs": [
    {
     "data": {
      "text/plain": [
       "HuggingFaceEmbeddings(model_name='all-MiniLM-L6-v2', cache_folder=None, model_kwargs={}, encode_kwargs={}, query_encode_kwargs={}, multi_process=False, show_progress=False)"
      ]
     },
     "execution_count": 37,
     "metadata": {},
     "output_type": "execute_result"
    }
   ],
   "source": [
    "# vector and sparse matrix\n",
    "\n",
    "\n",
    "import os \n",
    "from dotenv import load_dotenv\n",
    "load_dotenv()\n",
    "\n",
    "os.environ['HF_TOKEN']=os.getenv('HF_TOKEN')\n",
    "\n",
    "from langchain_huggingface import HuggingFaceEmbeddings\n",
    "embedding=HuggingFaceEmbeddings(model='all-MiniLM-L6-v2')\n",
    "embedding"
   ]
  },
  {
   "cell_type": "code",
   "execution_count": 40,
   "id": "19adfc77",
   "metadata": {},
   "outputs": [
    {
     "name": "stdout",
     "output_type": "stream",
     "text": [
      "Collecting pinecone-text\n",
      "  Using cached pinecone_text-0.10.0-py3-none-any.whl.metadata (10 kB)\n",
      "Requirement already satisfied: mmh3<5.0.0,>=4.1.0 in c:\\users\\fakee\\anaconda3\\lib\\site-packages (from pinecone-text) (4.1.0)\n",
      "Requirement already satisfied: nltk<4.0.0,>=3.9.1 in c:\\users\\fakee\\appdata\\roaming\\python\\python312\\site-packages (from pinecone-text) (3.9.1)\n",
      "Requirement already satisfied: numpy<2.0,>=1.26 in c:\\users\\fakee\\appdata\\roaming\\python\\python312\\site-packages (from pinecone-text) (1.26.4)\n",
      "Requirement already satisfied: python-dotenv<2.0.0,>=1.0.1 in c:\\users\\fakee\\appdata\\roaming\\python\\python312\\site-packages (from pinecone-text) (1.1.0)\n",
      "Requirement already satisfied: requests<3.0.0,>=2.25.0 in c:\\users\\fakee\\appdata\\roaming\\python\\python312\\site-packages (from pinecone-text) (2.32.3)\n",
      "Requirement already satisfied: types-requests<3.0.0,>=2.25.0 in c:\\users\\fakee\\anaconda3\\lib\\site-packages (from pinecone-text) (2.32.4.20250611)\n",
      "Requirement already satisfied: click in c:\\users\\fakee\\appdata\\roaming\\python\\python312\\site-packages (from nltk<4.0.0,>=3.9.1->pinecone-text) (8.2.1)\n",
      "Requirement already satisfied: joblib in c:\\users\\fakee\\appdata\\roaming\\python\\python312\\site-packages (from nltk<4.0.0,>=3.9.1->pinecone-text) (1.5.0)\n",
      "Requirement already satisfied: regex>=2021.8.3 in c:\\users\\fakee\\appdata\\roaming\\python\\python312\\site-packages (from nltk<4.0.0,>=3.9.1->pinecone-text) (2024.11.6)\n",
      "Requirement already satisfied: tqdm in c:\\users\\fakee\\appdata\\roaming\\python\\python312\\site-packages (from nltk<4.0.0,>=3.9.1->pinecone-text) (4.67.1)\n",
      "Requirement already satisfied: charset-normalizer<4,>=2 in c:\\users\\fakee\\appdata\\roaming\\python\\python312\\site-packages (from requests<3.0.0,>=2.25.0->pinecone-text) (3.4.2)\n",
      "Requirement already satisfied: idna<4,>=2.5 in c:\\users\\fakee\\appdata\\roaming\\python\\python312\\site-packages (from requests<3.0.0,>=2.25.0->pinecone-text) (3.10)\n",
      "Requirement already satisfied: urllib3<3,>=1.21.1 in c:\\users\\fakee\\appdata\\roaming\\python\\python312\\site-packages (from requests<3.0.0,>=2.25.0->pinecone-text) (2.4.0)\n",
      "Requirement already satisfied: certifi>=2017.4.17 in c:\\users\\fakee\\appdata\\roaming\\python\\python312\\site-packages (from requests<3.0.0,>=2.25.0->pinecone-text) (2025.4.26)\n",
      "Requirement already satisfied: colorama in c:\\users\\fakee\\appdata\\roaming\\python\\python312\\site-packages (from click->nltk<4.0.0,>=3.9.1->pinecone-text) (0.4.6)\n",
      "Using cached pinecone_text-0.10.0-py3-none-any.whl (22 kB)\n",
      "Installing collected packages: pinecone-text\n",
      "Successfully installed pinecone-text-0.10.0\n"
     ]
    }
   ],
   "source": [
    "!pip install pinecone-text\n"
   ]
  },
  {
   "cell_type": "code",
   "execution_count": 41,
   "id": "36fbcd87",
   "metadata": {},
   "outputs": [
    {
     "data": {
      "text/plain": [
       "<pinecone_text.sparse.bm25_encoder.BM25Encoder at 0x2ac9c8c6d20>"
      ]
     },
     "execution_count": 41,
     "metadata": {},
     "output_type": "execute_result"
    }
   ],
   "source": [
    "from pinecone_text.sparse import BM25Encoder\n",
    "\n",
    "bm25_encoder=BM25Encoder().default()\n",
    "bm25_encoder"
   ]
  },
  {
   "cell_type": "code",
   "execution_count": 42,
   "id": "d22c2e93",
   "metadata": {},
   "outputs": [
    {
     "data": {
      "application/vnd.jupyter.widget-view+json": {
       "model_id": "b6fb6e72817a4a709123b419f1bdff83",
       "version_major": 2,
       "version_minor": 0
      },
      "text/plain": [
       "  0%|          | 0/3 [00:00<?, ?it/s]"
      ]
     },
     "metadata": {},
     "output_type": "display_data"
    }
   ],
   "source": [
    "sentences=[\n",
    "    \"In 2023, I visited Paris\",\n",
    "        \"In 2022, I visited New York\",\n",
    "        \"In 2021, I visited New Orleans\",\n",
    "\n",
    "]\n",
    "\n",
    "## tfidf values on these sentence\n",
    "bm25_encoder.fit(sentences)\n",
    "\n",
    "## store the values to a json file\n",
    "bm25_encoder.dump(\"bm25_values.json\")\n",
    "\n",
    "# load to your BM25Encoder object\n",
    "bm25_encoder = BM25Encoder().load(\"bm25_values.json\")\n"
   ]
  },
  {
   "cell_type": "code",
   "execution_count": null,
   "id": "fcd16dab",
   "metadata": {},
   "outputs": [],
   "source": []
  }
 ],
 "metadata": {
  "kernelspec": {
   "display_name": "base",
   "language": "python",
   "name": "python3"
  },
  "language_info": {
   "codemirror_mode": {
    "name": "ipython",
    "version": 3
   },
   "file_extension": ".py",
   "mimetype": "text/x-python",
   "name": "python",
   "nbconvert_exporter": "python",
   "pygments_lexer": "ipython3",
   "version": "3.12.3"
  }
 },
 "nbformat": 4,
 "nbformat_minor": 5
}
