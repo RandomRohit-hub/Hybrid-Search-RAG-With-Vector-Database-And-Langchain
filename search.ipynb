{
 "cells": [
  {
   "cell_type": "code",
   "execution_count": 1,
   "id": "0debe596",
   "metadata": {},
   "outputs": [
    {
     "name": "stderr",
     "output_type": "stream",
     "text": [
      "ERROR: Ignored the following versions that require a different python version: 0.3.2 Requires-Python >=3.8,<3.11; 0.3.3 Requires-Python >=3.8,<3.11; 0.3.4 Requires-Python >=3.8,<3.11; 0.4.0 Requires-Python >=3.8,<3.11; 0.4.1 Requires-Python >=3.8,<3.11\n",
      "ERROR: Could not find a version that satisfies the requirement pinecone-notebook (from versions: none)\n",
      "ERROR: No matching distribution found for pinecone-notebook\n"
     ]
    }
   ],
   "source": [
    "!pip install --upgrade --quiet pinecone-client pinecone-text pinecone-notebook"
   ]
  },
  {
   "cell_type": "code",
   "execution_count": 2,
   "id": "47440094",
   "metadata": {},
   "outputs": [],
   "source": [
    "api_key=\"pcsk_6NQEF3_3HNLeGuVe84Y1VqV7WjW8pBA1xk723URZoQpeDjf3KM2piZP4FqUWRY4R2pbYqV\""
   ]
  },
  {
   "cell_type": "code",
   "execution_count": null,
   "id": "7f040f00",
   "metadata": {},
   "outputs": [],
   "source": [
    "from langchain_community.retrievers import PineconeHybridSearchRetriever"
   ]
  },
  {
   "cell_type": "code",
   "execution_count": null,
   "id": "19141801",
   "metadata": {},
   "outputs": [],
   "source": []
  },
  {
   "cell_type": "code",
   "execution_count": null,
   "id": "16954ef6",
   "metadata": {},
   "outputs": [],
   "source": []
  },
  {
   "cell_type": "code",
   "execution_count": null,
   "id": "8c85645f",
   "metadata": {},
   "outputs": [],
   "source": []
  },
  {
   "cell_type": "code",
   "execution_count": null,
   "id": "1035c016",
   "metadata": {},
   "outputs": [],
   "source": []
  }
 ],
 "metadata": {
  "kernelspec": {
   "display_name": "base",
   "language": "python",
   "name": "python3"
  },
  "language_info": {
   "codemirror_mode": {
    "name": "ipython",
    "version": 3
   },
   "file_extension": ".py",
   "mimetype": "text/x-python",
   "name": "python",
   "nbconvert_exporter": "python",
   "pygments_lexer": "ipython3",
   "version": "3.12.3"
  }
 },
 "nbformat": 4,
 "nbformat_minor": 5
}
